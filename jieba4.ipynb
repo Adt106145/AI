{
 "cells": [
  {
   "cell_type": "code",
   "execution_count": null,
   "metadata": {},
   "outputs": [
    {
     "name": "stderr",
     "output_type": "stream",
     "text": [
      "Building prefix dict from C:\\Users\\K410\\斷句\\dictionary\\dict.txt.big.txt ...\n",
      "Loading model from cache C:\\Users\\K410\\AppData\\Local\\Temp\\jieba.u29b9a8b54b6f2fccd672957ea929fba5.cache\n"
     ]
    }
   ],
   "source": [
    "#encoding=utf-8\n",
    "import jieba\n",
    "\n",
    "# 設定繁體中文詞庫\n",
    "jieba.set_dictionary('dictionary/dict.txt.big.txt')  \n",
    "\n",
    "# 增加自定義停用詞\n",
    "jieba.load_userdict('dictionary/user_dict.txt')\n",
    "\n",
    "\n",
    "sentence = \"吳智鴻，來到國立臺中教育大學數位系就讀碩士。\"\n",
    "\n",
    "jieba.add_word('數位系')\n",
    "#jieba.add_word('凱特琳')\n",
    "#jieba.del_word('自定义词')\n",
    "\n",
    "# 預設模式斷詞\n",
    "breakword = jieba.cut(sentence, cut_all=False)\n",
    "print(\"預設模式:\" + '|' . join(breakword))\n",
    "\n",
    "# 全文模式斷詞\n",
    "breakword = jieba.cut(sentence, cut_all=True)\n",
    "print(\"全文模式:\" + '|' . join(breakword))\n",
    "\n",
    "# 搜尋引擎模式斷詞\n",
    "breakword = jieba.cut_for_search(sentence)\n",
    "print(\"搜尋引擎:\" + '|' . join(breakword))"
   ]
  },
  {
   "cell_type": "code",
   "execution_count": null,
   "metadata": {},
   "outputs": [],
   "source": []
  }
 ],
 "metadata": {
  "kernelspec": {
   "display_name": "Python 3",
   "language": "python",
   "name": "python3"
  },
  "language_info": {
   "codemirror_mode": {
    "name": "ipython",
    "version": 3
   },
   "file_extension": ".py",
   "mimetype": "text/x-python",
   "name": "python",
   "nbconvert_exporter": "python",
   "pygments_lexer": "ipython3",
   "version": "3.6.4"
  }
 },
 "nbformat": 4,
 "nbformat_minor": 2
}
