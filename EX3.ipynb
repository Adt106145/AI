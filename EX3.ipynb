{
 "cells": [
  {
   "cell_type": "code",
   "execution_count": 2,
   "metadata": {},
   "outputs": [
    {
     "name": "stdout",
     "output_type": "stream",
     "text": [
      "請輸入CM150\n",
      "請輸入KG45\n"
     ]
    }
   ],
   "source": [
    "BMI = 0\n",
    "height = int(input(\"請輸入CM\"))\n",
    "weight = int(input(\"請輸入KG\"))"
   ]
  },
  {
   "cell_type": "code",
   "execution_count": 3,
   "metadata": {},
   "outputs": [
    {
     "name": "stdout",
     "output_type": "stream",
     "text": [
      "BMI = 45.000000\n",
      "\n"
     ]
    }
   ],
   "source": [
    "BMI = (weight) / (height/100) * (height/100)\n",
    "print(\"BMI = %f\\n\" %(BMI))"
   ]
  },
  {
   "cell_type": "code",
   "execution_count": 4,
   "metadata": {},
   "outputs": [
    {
     "name": "stdout",
     "output_type": "stream",
     "text": [
      "太胖\n"
     ]
    }
   ],
   "source": [
    "if BMI < 18.5:\n",
    "    print(\"太瘦\")\n",
    "if BMI >= 18.5 and BMI <24:\n",
    "    print(\"剛剛好\")\n",
    "if BMI >= 24:\n",
    "    print(\"太胖\")"
   ]
  },
  {
   "cell_type": "code",
   "execution_count": null,
   "metadata": {},
   "outputs": [],
   "source": []
  }
 ],
 "metadata": {
  "kernelspec": {
   "display_name": "Python 3",
   "language": "python",
   "name": "python3"
  }
 },
 "nbformat": 4,
 "nbformat_minor": 2
}
