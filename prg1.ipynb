{
 "cells": [
  {
   "cell_type": "code",
   "execution_count": 1,
   "metadata": {},
   "outputs": [
    {
     "name": "stderr",
     "output_type": "stream",
     "text": [
      "Using TensorFlow backend.\n"
     ]
    }
   ],
   "source": [
    "from keras.datasets import mnist\n",
    "(train_feature, train_label), (test_feature, test_label) = mnist.load_data()"
   ]
  },
  {
   "cell_type": "code",
   "execution_count": 2,
   "metadata": {},
   "outputs": [
    {
     "data": {
      "text/plain": [
       "'3.4.3'"
      ]
     },
     "execution_count": 2,
     "metadata": {},
     "output_type": "execute_result"
    }
   ],
   "source": [
    "#pip install tensorflow\n",
    "#pip install keras\n",
    "#pip install opencv-python==3.4.3.18\n",
    "import cv2\n",
    "cv2.__version__"
   ]
  },
  {
   "cell_type": "code",
   "execution_count": 3,
   "metadata": {},
   "outputs": [
    {
     "name": "stdout",
     "output_type": "stream",
     "text": [
      "60000 60000\n",
      "(60000, 28, 28) (60000,)\n"
     ]
    }
   ],
   "source": [
    "from keras.datasets import mnist\n",
    "\n",
    "#讀取MNIST資料集\n",
    "(train_feature, train_label), (test_feature, test_label) = mnist.load_data()\n",
    "\n",
    "# 查看訓練資料\n",
    "print(len(train_feature), len(train_label))   #60000 60000\n",
    "\n",
    "# 查看維度\n",
    "print(train_feature.shape, train_label.shape)   # (60000, 28, 28) (60000,)"
   ]
  },
  {
   "cell_type": "code",
   "execution_count": 4,
   "metadata": {},
   "outputs": [
    {
     "name": "stdout",
     "output_type": "stream",
     "text": [
      "60000 60000\n",
      "(60000, 28, 28) (60000,)\n"
     ]
    },
    {
     "data": {
      "text/plain": [
       "<Figure size 200x200 with 1 Axes>"
      ]
     },
     "metadata": {},
     "output_type": "display_data"
    },
    {
     "name": "stdout",
     "output_type": "stream",
     "text": [
      "5\n"
     ]
    }
   ],
   "source": [
    "# prg3\n",
    "\n",
    "#prg3 顯示訓練資料的圖片與值\n",
    "from keras.datasets import mnist\n",
    "\n",
    "#讀取MNIST資料集\n",
    "(train_feature, train_label), (test_feature, test_label) = mnist.load_data()\n",
    "\n",
    "# 查看訓練資料\n",
    "print(len(train_feature), len(train_label))   #60000 60000\n",
    "\n",
    "# 查看維度\n",
    "print(train_feature.shape, train_label.shape)   # (60000, 28, 28) (60000,)\n",
    "\n",
    "# 顯示圖片與值\n",
    "import matplotlib.pyplot as plt\n",
    "def show_image(image):\n",
    "    fig = plt.gcf()\n",
    "    fig.set_size_inches(2,2)  #數字圖片大小\n",
    "    plt.imshow(image, cmap = 'binary')  #黑白灰階顯示\n",
    "    plt.show()\n",
    "\n",
    "show_image(train_feature[0])  #顯示訓練資料第1個數字\n",
    "\n",
    "print(train_label[0])    #顯示第1個訓練資料圖片真實值"
   ]
  },
  {
   "cell_type": "code",
   "execution_count": 5,
   "metadata": {},
   "outputs": [
    {
     "name": "stdout",
     "output_type": "stream",
     "text": [
      "60000 60000\n",
      "(60000, 28, 28) (60000,)\n"
     ]
    },
    {
     "data": {
      "image/png": "[encoded data removed]",
      "text/plain": [
       "<Figure size 144x144 with 1 Axes>"
      ]
     },
     "metadata": {
      "needs_background": "light"
     },
     "output_type": "display_data"
    },
    {
     "name": "stdout",
     "output_type": "stream",
     "text": [
      "5\n"
     ]
    }
   ],
   "source": [
    "# prg4\n",
    "\n",
    "#prg4 顯示多張訓練資料的圖片與值\n",
    "from keras.datasets import mnist\n",
    "\n",
    "#讀取MNIST資料集\n",
    "(train_feature, train_label), (test_feature, test_label) = mnist.load_data()\n",
    "\n",
    "# 查看訓練資料\n",
    "print(len(train_feature), len(train_label))   #60000 60000\n",
    "\n",
    "# 查看維度\n",
    "print(train_feature.shape, train_label.shape)   # (60000, 28, 28) (60000,)\n",
    "\n",
    "# 顯示圖片與值\n",
    "import matplotlib.pyplot as plt\n",
    "def show_image(image):\n",
    "    fig = plt.gcf()\n",
    "    fig.set_size_inches(2,2)  #數字圖片大小\n",
    "    plt.imshow(image, cmap = 'binary')  #黑白灰階顯示\n",
    "    plt.show()\n",
    "\t\n",
    "\t# 顯示多張資料副程式，最多顯示 25張\n",
    "show_image(train_feature[0])  #顯示訓練資料第1個數字\n",
    "\n",
    "print(train_label[0])    #顯示第1個訓練資料圖片真實值\n",
    "\n",
    "\n",
    "# 顯示多張圖片與值（最多25張）\n",
    "def show_images_labels_predictions(images,labels,\n",
    "                                  predictions,start_id,num=10):\n",
    "    plt.gcf().set_size_inches(12, 14)\n",
    "    if num>25: num=25 \n",
    "    for i in range(0, num):\n",
    "        ax=plt.subplot(5,5, 1+i)\n",
    "        #顯示黑白圖片\n",
    "        ax.imshow(images[start_id], cmap='binary')\n",
    "        \n",
    "        # 有 AI 預測結果資料, 才在標題顯示預測結果\n",
    "        if( len(predictions) > 0 ) :\n",
    "            title = 'ai = ' + str(predictions[i])\n",
    "            # 預測正確顯示(o), 錯誤顯示(x)\n",
    "            title += (' (o)' if predictions[i]==labels[i] else ' (x)') \n",
    "            title += '\\nlabel = ' + str(labels[i])\n",
    "        # 沒有 AI 預測結果資料, 只在標題顯示真實數值\n",
    "        else :\n",
    "            title = 'label = ' + str(labels[i])\n",
    "            \n",
    "        # X, Y 軸不顯示刻度    \n",
    "        ax.set_title(title,fontsize=12) \n",
    "        ax.set_xticks([]);ax.set_yticks([])        \n",
    "        start_id+=1 \n",
    "    plt.show()"
   ]
  },
  {
   "cell_type": "code",
   "execution_count": 6,
   "metadata": {},
   "outputs": [
    {
     "data": {
      "image/png": "[encoded data removed]",
      "text/plain": [
       "<Figure size 864x1008 with 25 Axes>"
      ]
     },
     "metadata": {},
     "output_type": "display_data"
    }
   ],
   "source": [
    "show_images_labels_predictions(train_feature, train_label, [],0,25)"
   ]
  },
  {
   "cell_type": "code",
   "execution_count": 7,
   "metadata": {},
   "outputs": [
    {
     "name": "stdout",
     "output_type": "stream",
     "text": [
      "(60000, 784) (10000, 784)\n",
      "[  0.   0.   0.   0.   0.   0.   0.   0.   0.   0.   0.   0.   0.   0.\n",
      "   0.   0.   0.   0.   0.   0.   0.   0.   0.   0.   0.   0.   0.   0.\n",
      "   0.   0.   0.   0.   0.   0.   0.   0.   0.   0.   0.   0.   0.   0.\n",
      "   0.   0.   0.   0.   0.   0.   0.   0.   0.   0.   0.   0.   0.   0.\n",
      "   0.   0.   0.   0.   0.   0.   0.   0.   0.   0.   0.   0.   0.   0.\n",
      "   0.   0.   0.   0.   0.   0.   0.   0.   0.   0.   0.   0.   0.   0.\n",
      "   0.   0.   0.   0.   0.   0.   0.   0.   0.   0.   0.   0.   0.   0.\n",
      "   0.   0.   0.   0.   0.   0.   0.   0.   0.   0.   0.   0.   0.   0.\n",
      "   0.   0.   0.   0.   0.   0.   0.   0.   0.   0.   0.   0.   0.   0.\n",
      "   0.   0.   0.   0.   0.   0.   0.   0.   0.   0.   0.   0.   0.   0.\n",
      "   0.   0.   0.   0.   0.   0.   0.   0.   0.   0.   0.   0.   3.  18.\n",
      "  18.  18. 126. 136. 175.  26. 166. 255. 247. 127.   0.   0.   0.   0.\n",
      "   0.   0.   0.   0.   0.   0.   0.   0.  30.  36.  94. 154. 170. 253.\n",
      " 253. 253. 253. 253. 225. 172. 253. 242. 195.  64.   0.   0.   0.   0.\n",
      "   0.   0.   0.   0.   0.   0.   0.  49. 238. 253. 253. 253. 253. 253.\n",
      " 253. 253. 253. 251.  93.  82.  82.  56.  39.   0.   0.   0.   0.   0.\n",
      "   0.   0.   0.   0.   0.   0.   0.  18. 219. 253. 253. 253. 253. 253.\n",
      " 198. 182. 247. 241.   0.   0.   0.   0.   0.   0.   0.   0.   0.   0.\n",
      "   0.   0.   0.   0.   0.   0.   0.   0.  80. 156. 107. 253. 253. 205.\n",
      "  11.   0.  43. 154.   0.   0.   0.   0.   0.   0.   0.   0.   0.   0.\n",
      "   0.   0.   0.   0.   0.   0.   0.   0.   0.  14.   1. 154. 253.  90.\n",
      "   0.   0.   0.   0.   0.   0.   0.   0.   0.   0.   0.   0.   0.   0.\n",
      "   0.   0.   0.   0.   0.   0.   0.   0.   0.   0.   0. 139. 253. 190.\n",
      "   2.   0.   0.   0.   0.   0.   0.   0.   0.   0.   0.   0.   0.   0.\n",
      "   0.   0.   0.   0.   0.   0.   0.   0.   0.   0.   0.  11. 190. 253.\n",
      "  70.   0.   0.   0.   0.   0.   0.   0.   0.   0.   0.   0.   0.   0.\n",
      "   0.   0.   0.   0.   0.   0.   0.   0.   0.   0.   0.   0.  35. 241.\n",
      " 225. 160. 108.   1.   0.   0.   0.   0.   0.   0.   0.   0.   0.   0.\n",
      "   0.   0.   0.   0.   0.   0.   0.   0.   0.   0.   0.   0.   0.  81.\n",
      " 240. 253. 253. 119.  25.   0.   0.   0.   0.   0.   0.   0.   0.   0.\n",
      "   0.   0.   0.   0.   0.   0.   0.   0.   0.   0.   0.   0.   0.   0.\n",
      "  45. 186. 253. 253. 150.  27.   0.   0.   0.   0.   0.   0.   0.   0.\n",
      "   0.   0.   0.   0.   0.   0.   0.   0.   0.   0.   0.   0.   0.   0.\n",
      "   0.  16.  93. 252. 253. 187.   0.   0.   0.   0.   0.   0.   0.   0.\n",
      "   0.   0.   0.   0.   0.   0.   0.   0.   0.   0.   0.   0.   0.   0.\n",
      "   0.   0.   0. 249. 253. 249.  64.   0.   0.   0.   0.   0.   0.   0.\n",
      "   0.   0.   0.   0.   0.   0.   0.   0.   0.   0.   0.   0.   0.   0.\n",
      "  46. 130. 183. 253. 253. 207.   2.   0.   0.   0.   0.   0.   0.   0.\n",
      "   0.   0.   0.   0.   0.   0.   0.   0.   0.   0.   0.   0.  39. 148.\n",
      " 229. 253. 253. 253. 250. 182.   0.   0.   0.   0.   0.   0.   0.   0.\n",
      "   0.   0.   0.   0.   0.   0.   0.   0.   0.   0.  24. 114. 221. 253.\n",
      " 253. 253. 253. 201.  78.   0.   0.   0.   0.   0.   0.   0.   0.   0.\n",
      "   0.   0.   0.   0.   0.   0.   0.   0.  23.  66. 213. 253. 253. 253.\n",
      " 253. 198.  81.   2.   0.   0.   0.   0.   0.   0.   0.   0.   0.   0.\n",
      "   0.   0.   0.   0.   0.   0.  18. 171. 219. 253. 253. 253. 253. 195.\n",
      "  80.   9.   0.   0.   0.   0.   0.   0.   0.   0.   0.   0.   0.   0.\n",
      "   0.   0.   0.   0.  55. 172. 226. 253. 253. 253. 253. 244. 133.  11.\n",
      "   0.   0.   0.   0.   0.   0.   0.   0.   0.   0.   0.   0.   0.   0.\n",
      "   0.   0.   0.   0. 136. 253. 253. 253. 212. 135. 132.  16.   0.   0.\n",
      "   0.   0.   0.   0.   0.   0.   0.   0.   0.   0.   0.   0.   0.   0.\n",
      "   0.   0.   0.   0.   0.   0.   0.   0.   0.   0.   0.   0.   0.   0.\n",
      "   0.   0.   0.   0.   0.   0.   0.   0.   0.   0.   0.   0.   0.   0.\n",
      "   0.   0.   0.   0.   0.   0.   0.   0.   0.   0.   0.   0.   0.   0.\n",
      "   0.   0.   0.   0.   0.   0.   0.   0.   0.   0.   0.   0.   0.   0.\n",
      "   0.   0.   0.   0.   0.   0.   0.   0.   0.   0.   0.   0.   0.   0.\n",
      "   0.   0.   0.   0.   0.   0.   0.   0.   0.   0.   0.   0.   0.   0.]\n"
     ]
    }
   ],
   "source": [
    "# Prg5\n",
    "# 以reshape()函數將28*28的數字圖片轉換成784個數字的一維向量，再以astype將每個數字都轉換為float數字\n",
    "\n",
    "# 以reshape()函數將28*28的數字圖片轉換成784個數字的一維向量，再以astype將每個數字都轉換為float數字\n",
    "train_feature_vector = train_feature.reshape(len(train_feature),784).astype('float32')\n",
    "test_feature_vector = test_feature.reshape(len(test_feature),784).astype('float32')\n",
    "\n",
    "#查看資料\n",
    "print(train_feature_vector.shape, test_feature_vector.shape)\n",
    "\n",
    "# 顯示第1筆image資料內容。顯示0~255的浮點數。數字代表圖片中美一個點的灰階值\n",
    "print(train_feature_vector[0])"
   ]
  },
  {
   "cell_type": "code",
   "execution_count": 8,
   "metadata": {},
   "outputs": [
    {
     "name": "stdout",
     "output_type": "stream",
     "text": [
      "[0.         0.         0.         0.         0.         0.\n",
      " 0.         0.         0.         0.         0.         0.\n",
      " 0.         0.         0.         0.         0.         0.\n",
      " 0.         0.         0.         0.         0.         0.\n",
      " 0.         0.         0.         0.         0.         0.\n",
      " 0.         0.         0.         0.         0.         0.\n",
      " 0.         0.         0.         0.         0.         0.\n",
      " 0.         0.         0.         0.         0.         0.\n",
      " 0.         0.         0.         0.         0.         0.\n",
      " 0.         0.         0.         0.         0.         0.\n",
      " 0.         0.         0.         0.         0.         0.\n",
      " 0.         0.         0.         0.         0.         0.\n",
      " 0.         0.         0.         0.         0.         0.\n",
      " 0.         0.         0.         0.         0.         0.\n",
      " 0.         0.         0.         0.         0.         0.\n",
      " 0.         0.         0.         0.         0.         0.\n",
      " 0.         0.         0.         0.         0.         0.\n",
      " 0.         0.         0.         0.         0.         0.\n",
      " 0.         0.         0.         0.         0.         0.\n",
      " 0.         0.         0.         0.         0.         0.\n",
      " 0.         0.         0.         0.         0.         0.\n",
      " 0.         0.         0.         0.         0.         0.\n",
      " 0.         0.         0.         0.         0.         0.\n",
      " 0.         0.         0.         0.         0.         0.\n",
      " 0.         0.         0.         0.         0.         0.\n",
      " 0.         0.         0.01176471 0.07058824 0.07058824 0.07058824\n",
      " 0.49411765 0.53333336 0.6862745  0.10196079 0.6509804  1.\n",
      " 0.96862745 0.49803922 0.         0.         0.         0.\n",
      " 0.         0.         0.         0.         0.         0.\n",
      " 0.         0.         0.11764706 0.14117648 0.36862746 0.6039216\n",
      " 0.6666667  0.99215686 0.99215686 0.99215686 0.99215686 0.99215686\n",
      " 0.88235295 0.6745098  0.99215686 0.9490196  0.7647059  0.2509804\n",
      " 0.         0.         0.         0.         0.         0.\n",
      " 0.         0.         0.         0.         0.         0.19215687\n",
      " 0.93333334 0.99215686 0.99215686 0.99215686 0.99215686 0.99215686\n",
      " 0.99215686 0.99215686 0.99215686 0.9843137  0.3647059  0.32156864\n",
      " 0.32156864 0.21960784 0.15294118 0.         0.         0.\n",
      " 0.         0.         0.         0.         0.         0.\n",
      " 0.         0.         0.         0.07058824 0.85882354 0.99215686\n",
      " 0.99215686 0.99215686 0.99215686 0.99215686 0.7764706  0.7137255\n",
      " 0.96862745 0.94509804 0.         0.         0.         0.\n",
      " 0.         0.         0.         0.         0.         0.\n",
      " 0.         0.         0.         0.         0.         0.\n",
      " 0.         0.         0.3137255  0.6117647  0.41960785 0.99215686\n",
      " 0.99215686 0.8039216  0.04313726 0.         0.16862746 0.6039216\n",
      " 0.         0.         0.         0.         0.         0.\n",
      " 0.         0.         0.         0.         0.         0.\n",
      " 0.         0.         0.         0.         0.         0.\n",
      " 0.         0.05490196 0.00392157 0.6039216  0.99215686 0.3529412\n",
      " 0.         0.         0.         0.         0.         0.\n",
      " 0.         0.         0.         0.         0.         0.\n",
      " 0.         0.         0.         0.         0.         0.\n",
      " 0.         0.         0.         0.         0.         0.\n",
      " 0.         0.54509807 0.99215686 0.74509805 0.00784314 0.\n",
      " 0.         0.         0.         0.         0.         0.\n",
      " 0.         0.         0.         0.         0.         0.\n",
      " 0.         0.         0.         0.         0.         0.\n",
      " 0.         0.         0.         0.         0.         0.04313726\n",
      " 0.74509805 0.99215686 0.27450982 0.         0.         0.\n",
      " 0.         0.         0.         0.         0.         0.\n",
      " 0.         0.         0.         0.         0.         0.\n",
      " 0.         0.         0.         0.         0.         0.\n",
      " 0.         0.         0.         0.         0.13725491 0.94509804\n",
      " 0.88235295 0.627451   0.42352942 0.00392157 0.         0.\n",
      " 0.         0.         0.         0.         0.         0.\n",
      " 0.         0.         0.         0.         0.         0.\n",
      " 0.         0.         0.         0.         0.         0.\n",
      " 0.         0.         0.         0.31764707 0.9411765  0.99215686\n",
      " 0.99215686 0.46666667 0.09803922 0.         0.         0.\n",
      " 0.         0.         0.         0.         0.         0.\n",
      " 0.         0.         0.         0.         0.         0.\n",
      " 0.         0.         0.         0.         0.         0.\n",
      " 0.         0.         0.1764706  0.7294118  0.99215686 0.99215686\n",
      " 0.5882353  0.10588235 0.         0.         0.         0.\n",
      " 0.         0.         0.         0.         0.         0.\n",
      " 0.         0.         0.         0.         0.         0.\n",
      " 0.         0.         0.         0.         0.         0.\n",
      " 0.         0.0627451  0.3647059  0.9882353  0.99215686 0.73333335\n",
      " 0.         0.         0.         0.         0.         0.\n",
      " 0.         0.         0.         0.         0.         0.\n",
      " 0.         0.         0.         0.         0.         0.\n",
      " 0.         0.         0.         0.         0.         0.\n",
      " 0.         0.9764706  0.99215686 0.9764706  0.2509804  0.\n",
      " 0.         0.         0.         0.         0.         0.\n",
      " 0.         0.         0.         0.         0.         0.\n",
      " 0.         0.         0.         0.         0.         0.\n",
      " 0.         0.         0.18039216 0.50980395 0.7176471  0.99215686\n",
      " 0.99215686 0.8117647  0.00784314 0.         0.         0.\n",
      " 0.         0.         0.         0.         0.         0.\n",
      " 0.         0.         0.         0.         0.         0.\n",
      " 0.         0.         0.         0.         0.15294118 0.5803922\n",
      " 0.8980392  0.99215686 0.99215686 0.99215686 0.98039216 0.7137255\n",
      " 0.         0.         0.         0.         0.         0.\n",
      " 0.         0.         0.         0.         0.         0.\n",
      " 0.         0.         0.         0.         0.         0.\n",
      " 0.09411765 0.44705883 0.8666667  0.99215686 0.99215686 0.99215686\n",
      " 0.99215686 0.7882353  0.30588236 0.         0.         0.\n",
      " 0.         0.         0.         0.         0.         0.\n",
      " 0.         0.         0.         0.         0.         0.\n",
      " 0.         0.         0.09019608 0.25882354 0.8352941  0.99215686\n",
      " 0.99215686 0.99215686 0.99215686 0.7764706  0.31764707 0.00784314\n",
      " 0.         0.         0.         0.         0.         0.\n",
      " 0.         0.         0.         0.         0.         0.\n",
      " 0.         0.         0.         0.         0.07058824 0.67058825\n",
      " 0.85882354 0.99215686 0.99215686 0.99215686 0.99215686 0.7647059\n",
      " 0.3137255  0.03529412 0.         0.         0.         0.\n",
      " 0.         0.         0.         0.         0.         0.\n",
      " 0.         0.         0.         0.         0.         0.\n",
      " 0.21568628 0.6745098  0.8862745  0.99215686 0.99215686 0.99215686\n",
      " 0.99215686 0.95686275 0.52156866 0.04313726 0.         0.\n",
      " 0.         0.         0.         0.         0.         0.\n",
      " 0.         0.         0.         0.         0.         0.\n",
      " 0.         0.         0.         0.         0.53333336 0.99215686\n",
      " 0.99215686 0.99215686 0.83137256 0.5294118  0.5176471  0.0627451\n",
      " 0.         0.         0.         0.         0.         0.\n",
      " 0.         0.         0.         0.         0.         0.\n",
      " 0.         0.         0.         0.         0.         0.\n",
      " 0.         0.         0.         0.         0.         0.\n",
      " 0.         0.         0.         0.         0.         0.\n",
      " 0.         0.         0.         0.         0.         0.\n",
      " 0.         0.         0.         0.         0.         0.\n",
      " 0.         0.         0.         0.         0.         0.\n",
      " 0.         0.         0.         0.         0.         0.\n",
      " 0.         0.         0.         0.         0.         0.\n",
      " 0.         0.         0.         0.         0.         0.\n",
      " 0.         0.         0.         0.         0.         0.\n",
      " 0.         0.         0.         0.         0.         0.\n",
      " 0.         0.         0.         0.         0.         0.\n",
      " 0.         0.         0.         0.         0.         0.\n",
      " 0.         0.         0.         0.         0.         0.\n",
      " 0.         0.         0.         0.        ]\n"
     ]
    }
   ],
   "source": [
    "# Prg6\n",
    "# Image標準化\n",
    "train_feature_normalize = train_feature_vector/255\n",
    "test_feature_normalize = test_feature_vector/255\n",
    "\n",
    "#顯示第1筆的image正規化\n",
    "print(train_feature_normalize[0])"
   ]
  },
  {
   "cell_type": "code",
   "execution_count": 9,
   "metadata": {},
   "outputs": [
    {
     "name": "stdout",
     "output_type": "stream",
     "text": [
      "[[0. 0. 0. 0. 0. 1. 0. 0. 0. 0.]\n",
      " [1. 0. 0. 0. 0. 0. 0. 0. 0. 0.]\n",
      " [0. 0. 0. 0. 1. 0. 0. 0. 0. 0.]\n",
      " [0. 1. 0. 0. 0. 0. 0. 0. 0. 0.]\n",
      " [0. 0. 0. 0. 0. 0. 0. 0. 0. 1.]]\n"
     ]
    }
   ],
   "source": [
    "# Prg7\n",
    "# One-Hot Encoding\n",
    "\n",
    "import numpy as np\n",
    "from keras.utils import np_utils\n",
    "np.random.seed(10)\n",
    "\n",
    "train_label_onehot = np_utils.to_categorical(train_label)\n",
    "test_label_onehot = np_utils.to_categorical(test_label)\n",
    "\n",
    "print(train_label_onehot[0:5])"
   ]
  },
  {
   "cell_type": "code",
   "execution_count": 10,
   "metadata": {},
   "outputs": [
    {
     "name": "stdout",
     "output_type": "stream",
     "text": [
      "Train on 48000 samples, validate on 12000 samples\n",
      "Epoch 1/50\n",
      " - 1s - loss: 0.4380 - accuracy: 0.8830 - val_loss: 0.2181 - val_accuracy: 0.9406\n",
      "Epoch 2/50\n",
      " - 1s - loss: 0.1908 - accuracy: 0.9456 - val_loss: 0.1559 - val_accuracy: 0.9556\n",
      "Epoch 3/50\n",
      " - 1s - loss: 0.1355 - accuracy: 0.9616 - val_loss: 0.1260 - val_accuracy: 0.9648\n",
      "Epoch 4/50\n",
      " - 1s - loss: 0.1027 - accuracy: 0.9701 - val_loss: 0.1122 - val_accuracy: 0.9683\n",
      "Epoch 5/50\n",
      " - 1s - loss: 0.0811 - accuracy: 0.9771 - val_loss: 0.0984 - val_accuracy: 0.9720\n",
      "Epoch 6/50\n",
      " - 1s - loss: 0.0660 - accuracy: 0.9821 - val_loss: 0.0937 - val_accuracy: 0.9727\n",
      "Epoch 7/50\n",
      " - 1s - loss: 0.0545 - accuracy: 0.9852 - val_loss: 0.0920 - val_accuracy: 0.9737\n",
      "Epoch 8/50\n",
      " - 1s - loss: 0.0460 - accuracy: 0.9875 - val_loss: 0.0831 - val_accuracy: 0.9759\n",
      "Epoch 9/50\n",
      " - 1s - loss: 0.0381 - accuracy: 0.9902 - val_loss: 0.0827 - val_accuracy: 0.9760\n",
      "Epoch 10/50\n",
      " - 1s - loss: 0.0318 - accuracy: 0.9920 - val_loss: 0.0805 - val_accuracy: 0.9770\n",
      "Epoch 11/50\n",
      " - 1s - loss: 0.0264 - accuracy: 0.9939 - val_loss: 0.0790 - val_accuracy: 0.9756\n",
      "Epoch 12/50\n",
      " - 1s - loss: 0.0218 - accuracy: 0.9951 - val_loss: 0.0826 - val_accuracy: 0.9764\n",
      "Epoch 13/50\n",
      " - 1s - loss: 0.0184 - accuracy: 0.9964 - val_loss: 0.0834 - val_accuracy: 0.9772\n",
      "Epoch 14/50\n",
      " - 1s - loss: 0.0155 - accuracy: 0.9971 - val_loss: 0.0776 - val_accuracy: 0.9777\n",
      "Epoch 15/50\n",
      " - 1s - loss: 0.0132 - accuracy: 0.9976 - val_loss: 0.0813 - val_accuracy: 0.9772\n",
      "Epoch 16/50\n",
      " - 1s - loss: 0.0110 - accuracy: 0.9983 - val_loss: 0.0786 - val_accuracy: 0.9779\n",
      "Epoch 17/50\n",
      " - 1s - loss: 0.0085 - accuracy: 0.9990 - val_loss: 0.0819 - val_accuracy: 0.9775\n",
      "Epoch 18/50\n",
      " - 1s - loss: 0.0070 - accuracy: 0.9995 - val_loss: 0.0823 - val_accuracy: 0.9780\n",
      "Epoch 19/50\n",
      " - 1s - loss: 0.0061 - accuracy: 0.9995 - val_loss: 0.0806 - val_accuracy: 0.9788\n",
      "Epoch 20/50\n",
      " - 1s - loss: 0.0048 - accuracy: 0.9996 - val_loss: 0.0840 - val_accuracy: 0.9785\n",
      "Epoch 21/50\n",
      " - 1s - loss: 0.0041 - accuracy: 0.9997 - val_loss: 0.0820 - val_accuracy: 0.9787\n",
      "Epoch 22/50\n",
      " - 1s - loss: 0.0031 - accuracy: 0.9999 - val_loss: 0.0843 - val_accuracy: 0.9795\n",
      "Epoch 23/50\n",
      " - 1s - loss: 0.0027 - accuracy: 0.9999 - val_loss: 0.0844 - val_accuracy: 0.9795\n",
      "Epoch 24/50\n",
      " - 1s - loss: 0.0026 - accuracy: 0.9999 - val_loss: 0.0854 - val_accuracy: 0.9789\n",
      "Epoch 25/50\n",
      " - 1s - loss: 0.0020 - accuracy: 1.0000 - val_loss: 0.0881 - val_accuracy: 0.9781\n",
      "Epoch 26/50\n",
      " - 1s - loss: 0.0017 - accuracy: 1.0000 - val_loss: 0.0875 - val_accuracy: 0.9793\n",
      "Epoch 27/50\n",
      " - 1s - loss: 0.0014 - accuracy: 1.0000 - val_loss: 0.0902 - val_accuracy: 0.9791\n",
      "Epoch 28/50\n",
      " - 1s - loss: 0.0013 - accuracy: 1.0000 - val_loss: 0.0920 - val_accuracy: 0.9789\n",
      "Epoch 29/50\n",
      " - 1s - loss: 0.0011 - accuracy: 1.0000 - val_loss: 0.0901 - val_accuracy: 0.9801\n",
      "Epoch 30/50\n",
      " - 1s - loss: 0.0013 - accuracy: 0.9999 - val_loss: 0.0933 - val_accuracy: 0.9789\n",
      "Epoch 31/50\n",
      " - 1s - loss: 0.0063 - accuracy: 0.9981 - val_loss: 0.1261 - val_accuracy: 0.9725\n",
      "Epoch 32/50\n",
      " - 1s - loss: 0.0151 - accuracy: 0.9947 - val_loss: 0.1053 - val_accuracy: 0.9768\n",
      "Epoch 33/50\n",
      " - 1s - loss: 0.0050 - accuracy: 0.9988 - val_loss: 0.0969 - val_accuracy: 0.9787\n",
      "Epoch 34/50\n",
      " - 1s - loss: 9.5587e-04 - accuracy: 1.0000 - val_loss: 0.0989 - val_accuracy: 0.9787\n",
      "Epoch 35/50\n",
      " - 1s - loss: 5.7774e-04 - accuracy: 1.0000 - val_loss: 0.0965 - val_accuracy: 0.9796\n",
      "Epoch 36/50\n",
      " - 1s - loss: 4.6461e-04 - accuracy: 1.0000 - val_loss: 0.0972 - val_accuracy: 0.9791\n",
      "Epoch 37/50\n",
      " - 1s - loss: 4.1378e-04 - accuracy: 1.0000 - val_loss: 0.0984 - val_accuracy: 0.9794\n",
      "Epoch 38/50\n",
      " - 1s - loss: 3.7293e-04 - accuracy: 1.0000 - val_loss: 0.0985 - val_accuracy: 0.9791\n",
      "Epoch 39/50\n",
      " - 1s - loss: 3.3471e-04 - accuracy: 1.0000 - val_loss: 0.0991 - val_accuracy: 0.9792\n",
      "Epoch 40/50\n",
      " - 1s - loss: 3.1121e-04 - accuracy: 1.0000 - val_loss: 0.0993 - val_accuracy: 0.9793\n",
      "Epoch 41/50\n",
      " - 1s - loss: 2.8466e-04 - accuracy: 1.0000 - val_loss: 0.1001 - val_accuracy: 0.9793\n",
      "Epoch 42/50\n",
      " - 1s - loss: 2.6219e-04 - accuracy: 1.0000 - val_loss: 0.1004 - val_accuracy: 0.9796\n",
      "Epoch 43/50\n",
      " - 1s - loss: 2.4223e-04 - accuracy: 1.0000 - val_loss: 0.1010 - val_accuracy: 0.9794\n",
      "Epoch 44/50\n",
      " - 1s - loss: 2.2210e-04 - accuracy: 1.0000 - val_loss: 0.1022 - val_accuracy: 0.9795\n",
      "Epoch 45/50\n",
      " - 1s - loss: 2.0096e-04 - accuracy: 1.0000 - val_loss: 0.1023 - val_accuracy: 0.9797\n",
      "Epoch 46/50\n",
      " - 1s - loss: 1.8999e-04 - accuracy: 1.0000 - val_loss: 0.1023 - val_accuracy: 0.9800\n",
      "Epoch 47/50\n",
      " - 1s - loss: 1.7072e-04 - accuracy: 1.0000 - val_loss: 0.1037 - val_accuracy: 0.9795\n",
      "Epoch 48/50\n",
      " - 1s - loss: 1.5446e-04 - accuracy: 1.0000 - val_loss: 0.1044 - val_accuracy: 0.9794\n",
      "Epoch 49/50\n",
      " - 1s - loss: 1.4491e-04 - accuracy: 1.0000 - val_loss: 0.1056 - val_accuracy: 0.9793\n",
      "Epoch 50/50\n",
      " - 1s - loss: 1.2978e-04 - accuracy: 1.0000 - val_loss: 0.1065 - val_accuracy: 0.9797\n"
     ]
    }
   ],
   "source": [
    "import matplotlib.pyplot as plt\n",
    "from keras.models import Sequential\n",
    "\n",
    "from keras.layers import Dense\n",
    "\n",
    "model = Sequential()\n",
    "model.add(Dense(units=256,\n",
    "                input_dim=784,\n",
    "                kernel_initializer='normal',\n",
    "                activation='relu'))\n",
    "model.add(Dense(units=10,\n",
    "                kernel_initializer='normal',\n",
    "                activation='softmax' ))\n",
    "model.compile(loss='categorical_crossentropy',\n",
    "              optimizer='adam', metrics=['accuracy'])\n",
    "\n",
    "train_history =model.fit(x=train_feature_normalize,\n",
    "                        y=train_label_onehot,validation_split=0.2,\n",
    "                        epochs=50, batch_size=200,verbose=2)"
   ]
  },
  {
   "cell_type": "code",
   "execution_count": 11,
   "metadata": {},
   "outputs": [
    {
     "name": "stdout",
     "output_type": "stream",
     "text": [
      "10000/10000 [==============================] - 0s 16us/step\n",
      "\n",
      "準確率= 0.9797999858856201\n"
     ]
    }
   ],
   "source": [
    "scores = model.evaluate(test_feature_normalize, test_label_onehot)\n",
    "print('\\n準確率=',scores[1])\n"
   ]
  },
  {
   "cell_type": "code",
   "execution_count": 12,
   "metadata": {},
   "outputs": [
    {
     "data": {
      "image/png": "[encoded data removed]",
      "text/plain": [
       "<Figure size 864x1008 with 10 Axes>"
      ]
     },
     "metadata": {},
     "output_type": "display_data"
    }
   ],
   "source": [
    "# Prg8\n",
    "\n",
    "#預測\n",
    "prediction=model.predict_classes(test_feature_normalize)\n",
    "\n",
    "#顯示圖像、預測值、真實值 \n",
    "show_images_labels_predictions(test_feature,test_label,prediction,0)"
   ]
  }
 ],
 "metadata": {
  "kernelspec": {
   "display_name": "Python 3",
   "language": "python",
   "name": "python3"
  },
  "language_info": {
   "codemirror_mode": {
    "name": "ipython",
    "version": 3
   },
   "file_extension": ".py",
   "mimetype": "text/x-python",
   "name": "python",
   "nbconvert_exporter": "python",
   "pygments_lexer": "ipython3",
   "version": "3.5.6"
  }
 },
 "nbformat": 4,
 "nbformat_minor": 2
}
