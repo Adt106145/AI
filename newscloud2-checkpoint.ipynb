{
 "cells": [
  {
   "cell_type": "code",
   "execution_count": 2,
   "metadata": {},
   "outputs": [
    {
     "name": "stderr",
     "output_type": "stream",
     "text": [
      "Building prefix dict from C:\\Users\\K410\\WordCloud\\dictionary\\dict.txt.big.txt ...\n",
      "Loading model from cache C:\\Users\\K410\\AppData\\Local\\Temp\\jieba.ube52e58dfde1a057edf98580f0de2ed9.cache\n",
      "Loading model cost 1.065 seconds.\n",
      "Prefix dict has been built succesfully.\n"
     ]
    },
    {
     "data": {
      "image/png": "[encoded data removed]",
      "text/plain": [
       "<matplotlib.figure.Figure at 0x20b6028fef0>"
      ]
     },
     "metadata": {},
     "output_type": "display_data"
    },
    {
     "data": {
      "text/plain": [
       "<wordcloud.wordcloud.WordCloud at 0x20b6028fe48>"
      ]
     },
     "execution_count": 2,
     "metadata": {},
     "output_type": "execute_result"
    }
   ],
   "source": [
    "# WordCloud1  文字雲\n",
    "\n",
    "from PIL import Image\n",
    "import matplotlib.pyplot as plt\n",
    "from wordcloud import WordCloud\n",
    "import jieba\n",
    "import numpy as np\n",
    "from collections import Counter\n",
    "\n",
    "text = open('news1.txt', \"r\",encoding=\"utf-8\").read()  #讀文字資料\n",
    " \n",
    "jieba.set_dictionary('dictionary/dict.txt.big.txt')\n",
    "with open('dictionary/stopWord_cloud.txt', 'r', encoding='utf-8-sig') as f:  #設定停用詞\n",
    "#with open('dictionary/stopWord_cloudmod.txt', 'r', encoding='utf-8-sig') as f:  #設定停用詞\n",
    "    stops = f.read().split('\\n')   \n",
    "terms = []  #儲存字詞\n",
    "for t in jieba.cut(text, cut_all=False):  #拆解句子為字詞\n",
    "    if t not in stops:  #不是停用詞\n",
    "        terms.append(t)\n",
    "diction = Counter(terms)\n",
    "# 可列印詞的統計數量\n",
    "#print(diction)\n",
    "\n",
    "#font = \"C:\\\\Windows\\\\Fonts\\\\simsun.ttc\"  #設定字型(宋體)\n",
    "font = \"C:\\\\Windows\\\\Fonts\\\\MSJH.ttc\"  #設定字型(宋體)\n",
    "#wordcloud = WordCloud(font_path=\"C:\\\\Windows\\\\Fonts\\\\simsun.ttc\")\n",
    "\n",
    "mask = np.array(Image.open(\"star.png\"))  #設定文字雲形狀 \n",
    "#wordcloud = WordCloud(font_path=font) \n",
    "wordcloud = WordCloud(background_color=\"white\",mask=mask, font_path=font)  #背景顏色預設黑色,改為白色,字體為宋體\n",
    "wordcloud.generate_from_frequencies(diction)  #產生文字雲\n",
    "\n",
    "#產生圖片\n",
    "plt.figure(figsize=(6,6))\n",
    "plt.imshow(wordcloud)\n",
    "plt.axis(\"off\")\n",
    "plt.show()\n",
    "\n",
    "wordcloud.to_file(\"news_Wordcloud.png\")  #存檔"
   ]
  },
  {
   "cell_type": "code",
   "execution_count": null,
   "metadata": {},
   "outputs": [],
   "source": []
  }
 ],
 "metadata": {
  "kernelspec": {
   "display_name": "Python 3",
   "language": "python",
   "name": "python3"
  },
  "language_info": {
   "codemirror_mode": {
    "name": "ipython",
    "version": 3
   },
   "file_extension": ".py",
   "mimetype": "text/x-python",
   "name": "python",
   "nbconvert_exporter": "python",
   "pygments_lexer": "ipython3",
   "version": "3.6.4"
  }
 },
 "nbformat": 4,
 "nbformat_minor": 2
}
